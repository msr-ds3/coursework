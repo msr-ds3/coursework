{
 "cells": [
  {
   "cell_type": "markdown",
   "metadata": {
    "toc": "true"
   },
   "source": [
    "# Table of Contents\n",
    " <p><div class=\"lev1 toc-item\"><a href=\"#Introduction-to-the-command-line\" data-toc-modified-id=\"Introduction-to-the-command-line-1\"><span class=\"toc-item-num\">1&nbsp;&nbsp;</span>Introduction to the command line</a></div><div class=\"lev2 toc-item\"><a href=\"#Navigating-the-filesystem\" data-toc-modified-id=\"Navigating-the-filesystem-11\"><span class=\"toc-item-num\">1.1&nbsp;&nbsp;</span>Navigating the filesystem</a></div><div class=\"lev2 toc-item\"><a href=\"#Quotes,-special-characters,-and-variables\" data-toc-modified-id=\"Quotes,-special-characters,-and-variables-12\"><span class=\"toc-item-num\">1.2&nbsp;&nbsp;</span>Quotes, special characters, and variables</a></div><div class=\"lev2 toc-item\"><a href=\"#Displaying-file-contents\" data-toc-modified-id=\"Displaying-file-contents-13\"><span class=\"toc-item-num\">1.3&nbsp;&nbsp;</span>Displaying file contents</a></div><div class=\"lev2 toc-item\"><a href=\"#Redirection-of-standard-input/output-and-pipes\" data-toc-modified-id=\"Redirection-of-standard-input/output-and-pipes-14\"><span class=\"toc-item-num\">1.4&nbsp;&nbsp;</span>Redirection of standard input/output and pipes</a></div><div class=\"lev2 toc-item\"><a href=\"#Running-a-script\" data-toc-modified-id=\"Running-a-script-15\"><span class=\"toc-item-num\">1.5&nbsp;&nbsp;</span>Running a script</a></div><div class=\"lev2 toc-item\"><a href=\"#Pattern-matching-and-counting:-grep,-wc,-sort,-uniq-and-a-bit-of-awk\" data-toc-modified-id=\"Pattern-matching-and-counting:-grep,-wc,-sort,-uniq-and-a-bit-of-awk-16\"><span class=\"toc-item-num\">1.6&nbsp;&nbsp;</span>Pattern matching and counting: grep, wc, sort, uniq and a bit of awk</a></div>"
   ]
  },
  {
   "cell_type": "markdown",
   "metadata": {},
   "source": [
    "# Introduction to the command line\n",
    "\n",
    "A summary of basic command line / shell usage, as discussed in class.\n"
   ]
  },
  {
   "cell_type": "markdown",
   "metadata": {},
   "source": [
    "**Note:** If you're new to the command line, please do not use/run these commands in directories with important content, as you may overwrite existing files, etc. a good \"scratch space\" for exploring is the /tmp directory or similar (type \"cd /tmp\")."
   ]
  },
  {
   "cell_type": "markdown",
   "metadata": {},
   "source": [
    "## Navigating the filesystem"
   ]
  },
  {
   "cell_type": "code",
   "execution_count": 1,
   "metadata": {
    "collapsed": false
   },
   "outputs": [
    {
     "name": "stdout",
     "output_type": "stream",
     "text": [
      "\u001b[1m\u001b[31mdownload_trips.sh\u001b[39;49m\u001b[0m        flip_coins.R\n",
      "\u001b[1m\u001b[31mexplore_trips.sh\u001b[39;49m\u001b[0m         intro_command_line.ipynb\n"
     ]
    }
   ],
   "source": [
    "# list files\n",
    "ls"
   ]
  },
  {
   "cell_type": "code",
   "execution_count": 2,
   "metadata": {
    "collapsed": false
   },
   "outputs": [
    {
     "name": "stdout",
     "output_type": "stream",
     "text": [
      "/Users/jmh/teaching/msd2017/public/lectures/lecture_2\n"
     ]
    }
   ],
   "source": [
    "# list the present working directory\n",
    "pwd"
   ]
  },
  {
   "cell_type": "code",
   "execution_count": 3,
   "metadata": {
    "collapsed": false
   },
   "outputs": [
    {
     "name": "stdout",
     "output_type": "stream",
     "text": [
      "\u001b[36mlecture_1\u001b[39;49m\u001b[0m \u001b[36mlecture_2\u001b[39;49m\u001b[0m \u001b[36mlecture_3\u001b[39;49m\u001b[0m\n"
     ]
    }
   ],
   "source": [
    "# go one directory \"up\" in hierarchy, list files, come back\n",
    "cd ..\n",
    "ls\n",
    "cd lecture_2"
   ]
  },
  {
   "cell_type": "code",
   "execution_count": 4,
   "metadata": {
    "collapsed": false
   },
   "outputs": [
    {
     "name": "stdout",
     "output_type": "stream",
     "text": [
      "ls: illegal option -- -\n",
      "usage: ls [-ABCFGHLOPRSTUWabcdefghiklmnopqrstuwx1] [file ...]\n"
     ]
    },
    {
     "ename": "",
     "evalue": "1",
     "output_type": "error",
     "traceback": []
    }
   ],
   "source": [
    "# get (terse) description of options for ls\n",
    "ls --help"
   ]
  },
  {
   "cell_type": "markdown",
   "metadata": {},
   "source": [
    "See 'man ls' for more (q to quit) and 'man man' for how to use man pages"
   ]
  },
  {
   "cell_type": "code",
   "execution_count": 5,
   "metadata": {
    "collapsed": false
   },
   "outputs": [
    {
     "name": "stdout",
     "output_type": "stream",
     "text": [
      "total 104\n",
      "drwxr-xr-x  7 jmh  staff    238 Jan 31 15:28 \u001b[36m.\u001b[39;49m\u001b[0m\n",
      "drwxr-xr-x  6 jmh  staff    204 Jan 31 14:22 \u001b[36m..\u001b[39;49m\u001b[0m\n",
      "drwxr-xr-x  3 jmh  staff    102 Jan 31 14:23 \u001b[36m.ipynb_checkpoints\u001b[39;49m\u001b[0m\n",
      "-rwxr-xr-x  1 jmh  staff    926 Jan 31 15:04 \u001b[1m\u001b[31mdownload_trips.sh\u001b[39;49m\u001b[0m\n",
      "-rwxr-xr-x  1 jmh  staff   2252 Jan 27 08:34 \u001b[1m\u001b[31mexplore_trips.sh\u001b[39;49m\u001b[0m\n",
      "-rw-r--r--@ 1 jmh  staff    344 Jan 27 09:24 flip_coins.R\n",
      "-rw-r--r--  1 jmh  staff  37842 Jan 31 15:25 intro_command_line.ipynb\n"
     ]
    }
   ],
   "source": [
    "# use options to see all files (including hidden ones, starting with '.') in a list format\n",
    "ls -a -l"
   ]
  },
  {
   "cell_type": "code",
   "execution_count": 6,
   "metadata": {
    "collapsed": false
   },
   "outputs": [
    {
     "name": "stdout",
     "output_type": "stream",
     "text": [
      "total 104\n",
      "drwxr-xr-x  7 jmh  staff   238B Jan 31 15:28 \u001b[36m.\u001b[39;49m\u001b[0m\n",
      "drwxr-xr-x  6 jmh  staff   204B Jan 31 14:22 \u001b[36m..\u001b[39;49m\u001b[0m\n",
      "drwxr-xr-x  3 jmh  staff   102B Jan 31 14:23 \u001b[36m.ipynb_checkpoints\u001b[39;49m\u001b[0m\n",
      "-rwxr-xr-x  1 jmh  staff   926B Jan 31 15:04 \u001b[1m\u001b[31mdownload_trips.sh\u001b[39;49m\u001b[0m\n",
      "-rwxr-xr-x  1 jmh  staff   2.2K Jan 27 08:34 \u001b[1m\u001b[31mexplore_trips.sh\u001b[39;49m\u001b[0m\n",
      "-rw-r--r--@ 1 jmh  staff   344B Jan 27 09:24 flip_coins.R\n",
      "-rw-r--r--  1 jmh  staff    37K Jan 31 15:25 intro_command_line.ipynb\n"
     ]
    }
   ],
   "source": [
    "# shortcut for same, adding human readable file sizes\n",
    "ls -alh"
   ]
  },
  {
   "cell_type": "markdown",
   "metadata": {},
   "source": [
    "## Quotes, special characters, and variables"
   ]
  },
  {
   "cell_type": "code",
   "execution_count": 7,
   "metadata": {
    "collapsed": false
   },
   "outputs": [
    {
     "name": "stdout",
     "output_type": "stream",
     "text": [
      "-rwxr-xr-x  1 jmh  staff   926 Jan 31 15:04 \u001b[1m\u001b[31mdownload_trips.sh\u001b[39;49m\u001b[0m\n",
      "-rwxr-xr-x  1 jmh  staff  2252 Jan 27 08:34 \u001b[1m\u001b[31mexplore_trips.sh\u001b[39;49m\u001b[0m\n"
     ]
    }
   ],
   "source": [
    "# use '*' as a wildcard to list all files ending in '.sh'\n",
    "ls -l *sh"
   ]
  },
  {
   "cell_type": "code",
   "execution_count": 8,
   "metadata": {
    "collapsed": false
   },
   "outputs": [
    {
     "name": "stdout",
     "output_type": "stream",
     "text": [
      "ls: *sh: No such file or directory\n",
      "ls: *sh: No such file or directory\n"
     ]
    },
    {
     "ename": "",
     "evalue": "1",
     "output_type": "error",
     "traceback": []
    }
   ],
   "source": [
    "# be careful with quotes, they prevent some characters, such as *, from being interpreted\n",
    "ls -l \"*sh\"\n",
    "ls -l '*sh'"
   ]
  },
  {
   "cell_type": "code",
   "execution_count": 9,
   "metadata": {
    "collapsed": false
   },
   "outputs": [
    {
     "name": "stdout",
     "output_type": "stream",
     "text": [
      "sh\n",
      "sh\n",
      "sh\n"
     ]
    }
   ],
   "source": [
    "# for instance, the following are equivalent for printing the string 'sh' to the screen\n",
    "echo sh\n",
    "echo \"sh\"\n",
    "echo 'sh'"
   ]
  },
  {
   "cell_type": "code",
   "execution_count": 10,
   "metadata": {
    "collapsed": false,
    "scrolled": true
   },
   "outputs": [
    {
     "name": "stdout",
     "output_type": "stream",
     "text": [
      "download_trips.sh explore_trips.sh\n",
      "*sh\n",
      "*sh\n"
     ]
    }
   ],
   "source": [
    "# but these are quite different\n",
    "echo *sh    # expands second argument to all files ending in sh, then prints their names\n",
    "echo \"*sh\"  # double quotes prevent extension\n",
    "echo '*sh'  # single quotes prevent extension"
   ]
  },
  {
   "cell_type": "code",
   "execution_count": 11,
   "metadata": {
    "collapsed": false
   },
   "outputs": [
    {
     "name": "stdout",
     "output_type": "stream",
     "text": [
      "download_trips.sh explore_trips.sh\n",
      "*sh\n",
      "*$ext\n"
     ]
    }
   ],
   "source": [
    "# yet another subtlety between double and single quotes is how variables are handled\n",
    "# double quotes expand variables, but not glob patterns\n",
    "# single quotes treat things literally\n",
    "\n",
    "# define a variable for the extension and use it below\n",
    "ext=sh\n",
    "echo *$ext    # substitutes 'sh' for the variable, expands second argument to all files ending in sh, then prints their names\n",
    "echo \"*$ext\"  # substitutes 'sh' for the variable, but double quotes prevent extension\n",
    "echo '*$ext'  # prevents any substitution and treats string literally"
   ]
  },
  {
   "cell_type": "markdown",
   "metadata": {},
   "source": [
    "More on quoting here http://tldp.org/LDP/abs/html/quoting.html#QUOTINGREF"
   ]
  },
  {
   "cell_type": "markdown",
   "metadata": {},
   "source": [
    "## Displaying file contents"
   ]
  },
  {
   "cell_type": "code",
   "execution_count": 12,
   "metadata": {
    "collapsed": false
   },
   "outputs": [
    {
     "name": "stdout",
     "output_type": "stream",
     "text": [
      "#!/bin/bash\n",
      "#\n",
      "# description:\n",
      "#   fetches trip files from the citibike site http://www.citibikenyc.com/system-data\n",
      "#   e.g., https://s3.amazonaws.com/tripdata/201307-citibike-tripdata.zip\n",
      "#\n",
      "# usage: ./download_trips.sh\n",
      "#\n",
      "# requirements: curl or wget\n",
      "#\n",
      "# author: jake hofman\n",
      "#\n",
      "\n",
      "# set a relative path for the citibike data\n",
      "# (use current directory by default)\n",
      "DATA_DIR=.\n",
      "\n",
      "# change to the data directory\n",
      "cd $DATA_DIR\n",
      "\n",
      "# loop over each year/month\n",
      "for year in 2014\n",
      "do\n",
      "    for month in 02 #01 02 03 04 05 06 07 08 09 10 11 12\n",
      "    do\n",
      "\n",
      "    # download the zip file\n",
      "    # alternatively you can use wget if you don't have curl\n",
      "    # wget $url\n",
      "    url=https://s3.amazonaws.com/tripdata/${year}${month}-citibike-tripdata.zip\n",
      "    curl -O $url\n",
      "\n",
      "    # define local file names\n",
      "    file=`basename $url`\n",
      "    csv=${file//.zip/}\".csv\"\n",
      "\n",
      "    # unzip the downloaded file\n",
      "    unzip -p $file > $csv\n",
      "\n",
      "    # remove the zip file\n",
      "    rm $file\n",
      "    done\n",
      "done\n"
     ]
    }
   ],
   "source": [
    "# concatenate contents of script on screen\n",
    "cat download_trips.sh"
   ]
  },
  {
   "cell_type": "markdown",
   "metadata": {},
   "source": [
    "More is a more friendly version of cat, with pagination / scroll (q to quit)\n",
    "\n",
    "    more download_trips.sh\n",
    "\n",
    "Less is better than more\n",
    "\n",
    "    less download_trips.sh\n",
    "\n",
    "Each of these can take multiple arguments, showing several files in a row, e.g.\n",
    "\n",
    "    cat file1 file2\n",
    "    more file1 file2\n",
    "    less file1 file2"
   ]
  },
  {
   "cell_type": "markdown",
   "metadata": {},
   "source": [
    "## Redirection of standard input/output and pipes"
   ]
  },
  {
   "cell_type": "code",
   "execution_count": 13,
   "metadata": {
    "collapsed": true
   },
   "outputs": [],
   "source": [
    "# redirect output of program to file outputfile using\n",
    "# program > outputfile\n",
    "ls -alh > files"
   ]
  },
  {
   "cell_type": "code",
   "execution_count": 14,
   "metadata": {
    "collapsed": false
   },
   "outputs": [
    {
     "name": "stdout",
     "output_type": "stream",
     "text": [
      "total 104\n",
      "drwxr-xr-x  8 jmh  staff   272B Jan 31 15:29 .\n",
      "drwxr-xr-x  6 jmh  staff   204B Jan 31 14:22 ..\n",
      "drwxr-xr-x  3 jmh  staff   102B Jan 31 14:23 .ipynb_checkpoints\n",
      "-rwxr-xr-x  1 jmh  staff   926B Jan 31 15:04 download_trips.sh\n",
      "-rwxr-xr-x  1 jmh  staff   2.2K Jan 27 08:34 explore_trips.sh\n",
      "-rw-r--r--  1 jmh  staff     0B Jan 31 15:29 files\n",
      "-rw-r--r--@ 1 jmh  staff   344B Jan 27 09:24 flip_coins.R\n",
      "-rw-r--r--  1 jmh  staff    37K Jan 31 15:25 intro_command_line.ipynb\n"
     ]
    }
   ],
   "source": [
    "# redirect contents of file inputfile to program using\n",
    "# program < inputfile\n",
    "cat < files"
   ]
  },
  {
   "cell_type": "code",
   "execution_count": 15,
   "metadata": {
    "collapsed": false
   },
   "outputs": [
    {
     "name": "stdout",
     "output_type": "stream",
     "text": [
      "     1\ttotal 112\n",
      "     2\tdrwxr-xr-x  8 jmh  staff   272B Jan 31 15:29 .\n",
      "     3\t-rw-r--r--  1 jmh  staff   473B Jan 31 15:29 files\n",
      "     4\t-rw-r--r--  1 jmh  staff    37K Jan 31 15:25 intro_command_line.ipynb\n",
      "     5\t-rwxr-xr-x  1 jmh  staff   926B Jan 31 15:04 download_trips.sh\n",
      "     6\tdrwxr-xr-x  3 jmh  staff   102B Jan 31 14:23 .ipynb_checkpoints\n",
      "     7\tdrwxr-xr-x  6 jmh  staff   204B Jan 31 14:22 ..\n",
      "     8\t-rw-r--r--@ 1 jmh  staff   344B Jan 27 09:24 flip_coins.R\n",
      "     9\t-rwxr-xr-x  1 jmh  staff   2.2K Jan 27 08:34 explore_trips.sh\n"
     ]
    }
   ],
   "source": [
    "# redirect output of program1 to input of program2 using\n",
    "# program1 | program2\n",
    "# add line numbers to directory listing\n",
    "ls -talh | cat -n"
   ]
  },
  {
   "cell_type": "markdown",
   "metadata": {},
   "source": [
    "Visual trick: think of redirection operators as \"funnels\"\n",
    "\n",
    "When using '>' or '<', you should always have a program on left and file on the right\n",
    "\n",
    "When using '|', both left and right should have a program\n",
    "\n",
    "An example of confusing the above:\n",
    "\n",
    "      ls -l > more will write directory contents (from ls -l) to the\n",
    "      file named \"more\"\n",
    "      (you probably want ls -l | more, which will paginate ls -l)\n",
    "    \n",
    "The following are equivalent:\n",
    "\n",
    "       cat inputfile | program\n",
    "       program < inputfile\n",
    "\n",
    "More on redirection at http://tldp.org/LDP/abs/html/io-redirection.htmlIOREDIRREF\n",
    "   \n",
    "More on pipes at http://tldp.org/LDP/abs/html/special-chars.htmlPIPEREF"
   ]
  },
  {
   "cell_type": "markdown",
   "metadata": {},
   "source": [
    "## Running a script"
   ]
  },
  {
   "cell_type": "code",
   "execution_count": 16,
   "metadata": {
    "collapsed": false
   },
   "outputs": [
    {
     "name": "stdout",
     "output_type": "stream",
     "text": [
      "  % Total    % Received % Xferd  Average Speed   Time    Time     Time  Current\n",
      "                                 Dload  Upload   Total   Spent    Left  Speed\n",
      "100 7076k  100 7076k    0     0  7113k      0 --:--:-- --:--:-- --:--:-- 7111k\n"
     ]
    }
   ],
   "source": [
    "# download one month of citibike data\n",
    "bash download_trips.sh\n",
    "# or ./download_trips.sh for short if the file is executeable and has the proper first line ('#!/bin/bash')"
   ]
  },
  {
   "cell_type": "code",
   "execution_count": 17,
   "metadata": {
    "collapsed": false
   },
   "outputs": [
    {
     "name": "stdout",
     "output_type": "stream",
     "text": [
      "-rw-r--r--  1 jmh  staff    42M Jan 31 15:29 201402-citibike-tripdata.csv\n"
     ]
    }
   ],
   "source": [
    "ls -alh *.csv"
   ]
  },
  {
   "cell_type": "markdown",
   "metadata": {},
   "source": [
    "## Pattern matching and counting: grep, wc, sort, uniq and a bit of awk"
   ]
  },
  {
   "cell_type": "code",
   "execution_count": 18,
   "metadata": {
    "collapsed": false
   },
   "outputs": [
    {
     "name": "stdout",
     "output_type": "stream",
     "text": [
      "\"tripduration\",\"starttime\",\"stoptime\",\"start station id\",\"start station name\",\"start station latitude\",\"start station longitude\",\"end station id\",\"end station name\",\"end station latitude\",\"end station longitude\",\"bikeid\",\"usertype\",\"birth year\",\"gender\"\r\n"
     ]
    }
   ],
   "source": [
    "# look at the first line\n",
    "head -n1 201402-citibike-tripdata.csv"
   ]
  },
  {
   "cell_type": "code",
   "execution_count": 19,
   "metadata": {
    "collapsed": false
   },
   "outputs": [
    {
     "name": "stdout",
     "output_type": "stream",
     "text": [
      "     1\t\"tripduration\"\n",
      "     2\t\"starttime\"\n",
      "     3\t\"stoptime\"\n",
      "     4\t\"start station id\"\n",
      "     5\t\"start station name\"\n",
      "     6\t\"start station latitude\"\n",
      "     7\t\"start station longitude\"\n",
      "     8\t\"end station id\"\n",
      "     9\t\"end station name\"\n",
      "    10\t\"end station latitude\"\n",
      "    11\t\"end station longitude\"\n",
      "    12\t\"bikeid\"\n",
      "    13\t\"usertype\"\n",
      "    14\t\"birth year\"\n",
      "    15\t\"gender\"\n"
     ]
    }
   ],
   "source": [
    "# create a numbered list of columns, translating commas to newlines and adding line numbers\n",
    "head -n1 201402-citibike-tripdata.csv | tr , '\\n' | cat -n"
   ]
  },
  {
   "cell_type": "code",
   "execution_count": 20,
   "metadata": {
    "collapsed": false
   },
   "outputs": [
    {
     "name": "stdout",
     "output_type": "stream",
     "text": [
      "\"tripduration\",\"starttime\",\"stoptime\",\"start station id\",\"start station name\",\"start station latitude\",\"start station longitude\",\"end station id\",\"end station name\",\"end station latitude\",\"end station longitude\",\"bikeid\",\"usertype\",\"birth year\",\"gender\"\n",
      "\"382\",\"2014-02-01 00:00:00\",\"2014-02-01 00:06:22\",\"294\",\"Washington Square E\",\"40.73049393\",\"-73.9957214\",\"265\",\"Stanton St & Chrystie St\",\"40.72229346\",\"-73.99147535\",\"21101\",\"Subscriber\",\"1991\",\"1\"\n",
      "\"372\",\"2014-02-01 00:00:03\",\"2014-02-01 00:06:15\",\"285\",\"Broadway & E 14 St\",\"40.73454567\",\"-73.99074142\",\"439\",\"E 4 St & 2 Ave\",\"40.7262807\",\"-73.98978041\",\"15456\",\"Subscriber\",\"1979\",\"2\"\n",
      "\"591\",\"2014-02-01 00:00:09\",\"2014-02-01 00:10:00\",\"247\",\"Perry St & Bleecker St\",\"40.73535398\",\"-74.00483091\",\"251\",\"Mott St & Prince St\",\"40.72317958\",\"-73.99480012\",\"16281\",\"Subscriber\",\"1948\",\"2\"\n",
      "\"583\",\"2014-02-01 00:00:32\",\"2014-02-01 00:10:15\",\"357\",\"E 11 St & Broadway\",\"40.73261787\",\"-73.99158043\",\"284\",\"Greenwich Ave & 8 Ave\",\"40.7390169121\",\"-74.0026376103\",\"17400\",\"Subscriber\",\"1981\",\"1\"\n",
      "\"223\",\"2014-02-01 00:00:41\",\"2014-02-01 00:04:24\",\"401\",\"Allen St & Rivington St\",\"40.72019576\",\"-73.98997825\",\"439\",\"E 4 St & 2 Ave\",\"40.7262807\",\"-73.98978041\",\"19341\",\"Subscriber\",\"1990\",\"1\"\n",
      "\"541\",\"2014-02-01 00:00:46\",\"2014-02-01 00:09:47\",\"152\",\"Warren St & Church St\",\"40.71473993\",\"-74.00910627\",\"331\",\"Pike St & Monroe St\",\"40.71173107\",\"-73.99193043\",\"18674\",\"Subscriber\",\"1990\",\"1\"\n",
      "\"354\",\"2014-02-01 00:01:01\",\"2014-02-01 00:06:55\",\"325\",\"E 19 St & 3 Ave\",\"40.73624527\",\"-73.98473765\",\"439\",\"E 4 St & 2 Ave\",\"40.7262807\",\"-73.98978041\",\"16975\",\"Subscriber\",\"1991\",\"1\"\n",
      "\"916\",\"2014-02-01 00:01:11\",\"2014-02-01 00:16:27\",\"354\",\"Emerson Pl & Myrtle Ave\",\"40.69363137\",\"-73.96223558\",\"395\",\"Bond St & Schermerhorn St\",\"40.68807003\",\"-73.98410637\",\"16020\",\"Subscriber\",\"1978\",\"1\"\n",
      "\"277\",\"2014-02-01 00:01:33\",\"2014-02-01 00:06:10\",\"375\",\"Mercer St & Bleecker St\",\"40.72679454\",\"-73.99695094\",\"369\",\"Washington Pl & 6 Ave\",\"40.73224119\",\"-74.00026394\",\"18891\",\"Subscriber\",\"1944\",\"1\"\n"
     ]
    }
   ],
   "source": [
    "# look at the first 10 lines\n",
    "head 201402-citibike-tripdata.csv"
   ]
  },
  {
   "cell_type": "code",
   "execution_count": 21,
   "metadata": {
    "collapsed": false
   },
   "outputs": [
    {
     "name": "stdout",
     "output_type": "stream",
     "text": [
      "\"982\",\"2014-02-28 23:53:47\",\"2014-03-01 00:10:09\",\"512\",\"W 29 St & 9 Ave\",\"40.7500727\",\"-73.99839279\",\"483\",\"E 12 St & 3 Ave\",\"40.73223272\",\"-73.98889957\",\"18209\",\"Subscriber\",\"1989\",\"1\"\n",
      "\"1210\",\"2014-02-28 23:53:59\",\"2014-03-01 00:14:09\",\"312\",\"Allen St & E Houston St\",\"40.722055\",\"-73.989111\",\"505\",\"6 Ave & W 33 St\",\"40.74901271\",\"-73.98848395\",\"17073\",\"Subscriber\",\"1984\",\"2\"\n",
      "\"988\",\"2014-02-28 23:54:45\",\"2014-03-01 00:11:13\",\"428\",\"E 3 St & 1 Ave\",\"40.72467721\",\"-73.98783413\",\"268\",\"Howard St & Centre St\",\"40.71910537\",\"-73.99973337\",\"20813\",\"Subscriber\",\"1980\",\"1\"\n",
      "\"267\",\"2014-02-28 23:55:39\",\"2014-03-01 00:00:06\",\"301\",\"E 2 St & Avenue B\",\"40.72217444\",\"-73.98368779\",\"403\",\"E 2 St & 2 Ave\",\"40.72502876\",\"-73.99069656\",\"16937\",\"Subscriber\",\"1978\",\"1\"\n",
      "\"175\",\"2014-02-28 23:57:12\",\"2014-03-01 00:00:07\",\"383\",\"Greenwich Ave & Charles St\",\"40.735238\",\"-74.000271\",\"284\",\"Greenwich Ave & 8 Ave\",\"40.7390169121\",\"-74.0026376103\",\"15220\",\"Subscriber\",\"1956\",\"1\"\n",
      "\"848\",\"2014-02-28 23:57:13\",\"2014-03-01 00:11:21\",\"498\",\"Broadway & W 32 St\",\"40.74854862\",\"-73.98808416\",\"432\",\"E 7 St & Avenue A\",\"40.72621788\",\"-73.98379855\",\"17413\",\"Subscriber\",\"1976\",\"1\"\n",
      "\"1355\",\"2014-02-28 23:57:55\",\"2014-03-01 00:20:30\",\"470\",\"W 20 St & 8 Ave\",\"40.74345335\",\"-74.00004031\",\"302\",\"Avenue D & E 3 St\",\"40.72082834\",\"-73.97793172\",\"15608\",\"Subscriber\",\"1985\",\"2\"\n",
      "\"304\",\"2014-02-28 23:58:17\",\"2014-03-01 00:03:21\",\"497\",\"E 17 St & Broadway\",\"40.73704984\",\"-73.99009296\",\"334\",\"W 20 St & 7 Ave\",\"40.74238787\",\"-73.99726235\",\"17112\",\"Subscriber\",\"1968\",\"1\"\n",
      "\"308\",\"2014-02-28 23:59:10\",\"2014-03-01 00:04:18\",\"353\",\"S Portland Ave & Hanson Pl\",\"40.68539567\",\"-73.97431458\",\"365\",\"Fulton St & Grand Ave\",\"40.68223166\",\"-73.9614583\",\"14761\",\"Subscriber\",\"1982\",\"1\"\n",
      "\"603\",\"2014-02-28 23:59:47\",\"2014-03-01 00:09:50\",\"252\",\"MacDougal St & Washington Sq\",\"40.73226398\",\"-73.99852205\",\"475\",\"E 16 St & Irving Pl\",\"40.73524276\",\"-73.98758561\",\"18783\",\"Subscriber\",\"1960\",\"1\"\n"
     ]
    }
   ],
   "source": [
    "# look at the last 10 lines\n",
    "tail 201402-citibike-tripdata.csv"
   ]
  },
  {
   "cell_type": "code",
   "execution_count": 22,
   "metadata": {
    "collapsed": false
   },
   "outputs": [
    {
     "name": "stdout",
     "output_type": "stream",
     "text": [
      "  224737 201402-citibike-tripdata.csv\n"
     ]
    }
   ],
   "source": [
    "# count the number of lines in this file\n",
    "wc -l 201402-citibike-tripdata.csv"
   ]
  },
  {
   "cell_type": "code",
   "execution_count": 23,
   "metadata": {
    "collapsed": false
   },
   "outputs": [
    {
     "name": "stdout",
     "output_type": "stream",
     "text": [
      "\"gender\"\n",
      "\"1\"\n",
      "\"2\"\n",
      "\"2\"\n",
      "\"1\"\n",
      "\"1\"\n",
      "\"1\"\n",
      "\"1\"\n",
      "\"1\"\n",
      "\"1\"\n"
     ]
    }
   ],
   "source": [
    "# extract rider gender in column 15, specifying ',' as a delimiter\n",
    "# limit output to first 10 lines\n",
    "cut -d, -f15 201402-citibike-tripdata.csv | head"
   ]
  },
  {
   "cell_type": "code",
   "execution_count": 24,
   "metadata": {
    "collapsed": false
   },
   "outputs": [
    {
     "name": "stdout",
     "output_type": "stream",
     "text": [
      "\"1899\"\n",
      "\"1899\"\n",
      "\"1899\"\n",
      "\"1899\"\n",
      "\"1899\"\n",
      "\"1899\"\n",
      "\"1899\"\n",
      "\"1899\"\n",
      "\"1899\"\n",
      "\"1900\"\n"
     ]
    }
   ],
   "source": [
    "# find the earliest birth year in column 14\n",
    "cut -d, -f14 201402-citibike-tripdata.csv | sort | head"
   ]
  },
  {
   "cell_type": "code",
   "execution_count": 25,
   "metadata": {
    "collapsed": false
   },
   "outputs": [
    {
     "name": "stdout",
     "output_type": "stream",
     "text": [
      "\\N\n",
      "\\N\n",
      "\\N\n",
      "\\N\n",
      "\\N\n",
      "\\N\n",
      "\\N\n",
      "\\N\n",
      "\\N\n",
      "\\N\n"
     ]
    }
   ],
   "source": [
    "# find the latest birth year in column 14\n",
    "cut -d, -f14 201402-citibike-tripdata.csv | sort | tail"
   ]
  },
  {
   "cell_type": "code",
   "execution_count": 26,
   "metadata": {
    "collapsed": false
   },
   "outputs": [
    {
     "name": "stdout",
     "output_type": "stream",
     "text": [
      "\"372\",\"2014-02-01 00:00:03\",\"2014-02-01 00:06:15\",\"285\",\"Broadway & E 14 St\",\"40.73454567\",\"-73.99074142\",\"439\",\"E 4 St & 2 Ave\",\"40.7262807\",\"-73.98978041\",\"15456\",\"Subscriber\",\"1979\",\"2\"\n",
      "\"583\",\"2014-02-01 00:00:32\",\"2014-02-01 00:10:15\",\"357\",\"E 11 St & Broadway\",\"40.73261787\",\"-73.99158043\",\"284\",\"Greenwich Ave & 8 Ave\",\"40.7390169121\",\"-74.0026376103\",\"17400\",\"Subscriber\",\"1981\",\"1\"\n",
      "\"439\",\"2014-02-01 00:02:14\",\"2014-02-01 00:09:33\",\"285\",\"Broadway & E 14 St\",\"40.73454567\",\"-73.99074142\",\"247\",\"Perry St & Bleecker St\",\"40.73535398\",\"-74.00483091\",\"20875\",\"Subscriber\",\"1983\",\"2\"\n",
      "\"707\",\"2014-02-01 00:02:50\",\"2014-02-01 00:14:37\",\"257\",\"Lispenard St & Broadway\",\"40.71939226\",\"-74.00247214\",\"345\",\"W 13 St & 6 Ave\",\"40.73649403\",\"-73.99704374\",\"17757\",\"Subscriber\",\"1962\",\"1\"\n",
      "\"695\",\"2014-02-01 00:06:53\",\"2014-02-01 00:18:28\",\"490\",\"8 Ave & W 33 St\",\"40.751551\",\"-73.993934\",\"468\",\"Broadway & W 55 St\",\"40.7652654\",\"-73.98192338\",\"21122\",\"Subscriber\",\"1979\",\"1\"\n",
      "\"892\",\"2014-02-01 00:07:22\",\"2014-02-01 00:22:14\",\"499\",\"Broadway & W 60 St\",\"40.76915505\",\"-73.98191841\",\"490\",\"8 Ave & W 33 St\",\"40.751551\",\"-73.993934\",\"20799\",\"Subscriber\",\"1968\",\"1\"\n",
      "\"636\",\"2014-02-01 00:08:25\",\"2014-02-01 00:19:01\",\"285\",\"Broadway & E 14 St\",\"40.73454567\",\"-73.99074142\",\"393\",\"E 5 St & Avenue C\",\"40.72299208\",\"-73.97995466\",\"19764\",\"Subscriber\",\"1984\",\"1\"\n",
      "\"878\",\"2014-02-01 00:09:03\",\"2014-02-01 00:23:41\",\"497\",\"E 17 St & Broadway\",\"40.73704984\",\"-73.99009296\",\"477\",\"W 41 St & 8 Ave\",\"40.75640548\",\"-73.9900262\",\"19897\",\"Subscriber\",\"1987\",\"1\"\n",
      "\"1064\",\"2014-02-01 00:12:27\",\"2014-02-01 00:30:11\",\"444\",\"Broadway & W 24 St\",\"40.7423543\",\"-73.98915076\",\"238\",\"Bank St & Washington St\",\"40.7361967\",\"-74.00859207\",\"14690\",\"Subscriber\",\"1996\",\"1\"\n",
      "\"469\",\"2014-02-01 00:12:40\",\"2014-02-01 00:20:29\",\"497\",\"E 17 St & Broadway\",\"40.73704984\",\"-73.99009296\",\"352\",\"W 56 St & 6 Ave\",\"40.76340613\",\"-73.97722479\",\"20132\",\"Subscriber\",\"1975\",\"1\"\n"
     ]
    }
   ],
   "source": [
    "# find all trips either starting or ending on broadway\n",
    "grep Broadway 201402-citibike-tripdata.csv | head"
   ]
  },
  {
   "cell_type": "code",
   "execution_count": 27,
   "metadata": {
    "collapsed": false
   },
   "outputs": [
    {
     "name": "stdout",
     "output_type": "stream",
     "text": [
      "    2776\n"
     ]
    }
   ],
   "source": [
    "# count all trips that start and end on broadway\n",
    "cut -d, -f5,9 201402-citibike-tripdata.csv | grep 'Broadway.*Broadway' | wc -l"
   ]
  },
  {
   "cell_type": "code",
   "execution_count": 28,
   "metadata": {
    "collapsed": false
   },
   "outputs": [
    {
     "name": "stdout",
     "output_type": "stream",
     "text": [
      "\"Broadway & Battery Pl\"\n",
      "\"Broadway & Berry St\"\n",
      "\"Broadway & E 14 St\"\n",
      "\"Broadway & E 22 St\"\n",
      "\"Broadway & W 24 St\"\n",
      "\"Broadway & W 29 St\"\n",
      "\"Broadway & W 32 St\"\n",
      "\"Broadway & W 36 St\"\n",
      "\"Broadway & W 37 St\"\n",
      "\"Broadway & W 39 St\"\n",
      "\"Broadway & W 41 St\"\n",
      "\"Broadway & W 49 St\"\n",
      "\"Broadway & W 51 St\"\n",
      "\"Broadway & W 53 St\"\n",
      "\"Broadway & W 55 St\"\n",
      "\"Broadway & W 58 St\"\n",
      "\"Broadway & W 60 St\"\n",
      "\"E 11 St & Broadway\"\n",
      "\"E 17 St & Broadway\"\n",
      "\"Franklin St & W Broadway\"\n",
      "\"Liberty St & Broadway\"\n",
      "\"Lispenard St & Broadway\"\n",
      "\"Pike St & E Broadway\"\n",
      "\"Reade St & Broadway\"\n",
      "\"W Broadway & Spring St\"\n",
      "\"Washington Pl & Broadway\"\n"
     ]
    }
   ],
   "source": [
    "# list all of the unique stations in column 5 that are contain Broadway by first sorting and then removing running duplicates\n",
    "cut -d, -f5 201402-citibike-tripdata.csv | grep Broadway | sort | uniq"
   ]
  },
  {
   "cell_type": "code",
   "execution_count": 29,
   "metadata": {
    "collapsed": false
   },
   "outputs": [
    {
     "name": "stdout",
     "output_type": "stream",
     "text": [
      "\"1997\"\n",
      "\"1997\"\n",
      "\"1997\"\n",
      "\"1997\"\n",
      "\"1997\"\n",
      "\"1997\"\n",
      "\"1997\"\n",
      "\"1997\"\n",
      "\"1997\"\n",
      "\"1997\"\n"
     ]
    }
   ],
   "source": [
    "# find the latest birth year in column 14, limiting to lines with a number\n",
    "cut -d, -f14 201402-citibike-tripdata.csv | grep '[0-9]' | sort | tail"
   ]
  },
  {
   "cell_type": "code",
   "execution_count": 30,
   "metadata": {
    "collapsed": false
   },
   "outputs": [
    {
     "name": "stdout",
     "output_type": "stream",
     "text": [
      "6731 \"0\"\n",
      "176526 \"1\"\n",
      "41479 \"2\"\n",
      "   1 \"gender\"\n"
     ]
    }
   ],
   "source": [
    "# count trips by gender\n",
    "cut -d, -f15 201402-citibike-tripdata.csv | sort | uniq -c"
   ]
  },
  {
   "cell_type": "code",
   "execution_count": 31,
   "metadata": {
    "collapsed": false
   },
   "outputs": [
    {
     "name": "stdout",
     "output_type": "stream",
     "text": [
      "\"tripduration\"\t\"starttime\"\t\"stoptime\"\t\"start station id\"\t\"start station name\"\t\"start station latitude\"\t\"start station longitude\"\t\"end station id\"\t\"end station name\"\t\"end station latitude\"\t\"end station longitude\"\t\"bikeid\"\t\"usertype\"\t\"birth year\"\t\"gender\"\r\n"
     ]
    }
   ],
   "source": [
    "# convert comma-separated file to tab-separated file\n",
    "cat 201402-citibike-tripdata.csv | tr , '\\t' > 201402-citibike-tripdata.tsv\n",
    "head -n1 201402-citibike-tripdata.tsv"
   ]
  },
  {
   "cell_type": "code",
   "execution_count": 32,
   "metadata": {
    "collapsed": false
   },
   "outputs": [
    {
     "name": "stdout",
     "output_type": "stream",
     "text": [
      " 156 \"E 43 St & Vanderbilt Ave\"\t\"W 41 St & 8 Ave\"\n",
      " 124 \"Pershing Square N\"\t\"W 33 St & 7 Ave\"\n",
      " 122 \"Norfolk St & Broome St\"\t\"Henry St & Grand St\"\n",
      " 121 \"E 7 St & Avenue A\"\t\"Lafayette St & E 8 St\"\n",
      " 118 \"W 17 St & 8 Ave\"\t\"8 Ave & W 31 St\"\n",
      " 118 \"Henry St & Grand St\"\t\"Norfolk St & Broome St\"\n",
      " 115 \"Lafayette St & E 8 St\"\t\"E 6 St & Avenue B\"\n",
      " 115 \"Central Park S & 6 Ave\"\t\"Central Park S & 6 Ave\"\n",
      " 108 \"E 10 St & Avenue A\"\t\"Lafayette St & E 8 St\"\n",
      " 103 \"Canal St & Rutgers St\"\t\"Henry St & Grand St\"\n"
     ]
    }
   ],
   "source": [
    "# find the 10 most frequent station-to-station trips\n",
    "cut -f5,9 201402-citibike-tripdata.tsv | sort | uniq -c | sort -nr | head"
   ]
  },
  {
   "cell_type": "code",
   "execution_count": 33,
   "metadata": {
    "collapsed": false
   },
   "outputs": [
    {
     "name": "stdout",
     "output_type": "stream",
     "text": [
      "    2776\n"
     ]
    }
   ],
   "source": [
    "# use awk to count all trips that start and end on broadway\n",
    "awk -F, '$5 ~ /Broadway/ && $9 ~ /Broadway/' 201402-citibike-tripdata.csv | wc -l"
   ]
  },
  {
   "cell_type": "code",
   "execution_count": 34,
   "metadata": {
    "collapsed": false
   },
   "outputs": [
    {
     "name": "stdout",
     "output_type": "stream",
     "text": [
      "176526\t\"1\"\n",
      "41479\t\"2\"\n",
      "1\t\"gender\"\n",
      "6731\t\"0\"\n"
     ]
    }
   ],
   "source": [
    "# use awk to count trips by gender without having to sort\n",
    "awk -F, '{counts[$15]++} END {for (k in counts) print counts[k]\"\\t\" k }' 201402-citibike-tripdata.csv"
   ]
  },
  {
   "cell_type": "code",
   "execution_count": 35,
   "metadata": {
    "collapsed": false
   },
   "outputs": [
    {
     "name": "stdout",
     "output_type": "stream",
     "text": [
      "sort and uniq\n",
      "6731 \"0\"\n",
      "176526 \"1\"\n",
      "41479 \"2\"\n",
      "   1 \"gender\"\n",
      "\n",
      "real\t0m4.360s\n",
      "user\t0m4.052s\n",
      "sys\t0m0.070s\n",
      "\n",
      "awk\n",
      "176526\t\"1\"\n",
      "41479\t\"2\"\n",
      "1\t\"gender\"\n",
      "6731\t\"0\"\n",
      "\n",
      "real\t0m1.950s\n",
      "user\t0m1.859s\n",
      "sys\t0m0.045s\n"
     ]
    }
   ],
   "source": [
    "# compare the time when using sort and uniq to awk\n",
    "echo \"sort and uniq\"\n",
    "time cut -d, -f15 201402-citibike-tripdata.csv | sort | uniq -c\n",
    "echo\n",
    "echo \"awk\"\n",
    "time awk -F, '{counts[$15]++} END {for (k in counts) print counts[k]\"\\t\" k }' 201402-citibike-tripdata.csv"
   ]
  },
  {
   "cell_type": "code",
   "execution_count": 36,
   "metadata": {
    "collapsed": false
   },
   "outputs": [
    {
     "name": "stdout",
     "output_type": "stream",
     "text": [
      "\"1899\"\t\n",
      "\"1900\"\t\n",
      "\"1901\"\t\n",
      "\"1907\"\t\n",
      "\"1910\"\t\n",
      "\"1913\"\t\n",
      "\"1917\"\t\n",
      "\"1921\"\t\n",
      "\"1922\"\t\n",
      "\"1926\"\t\n",
      "\"1927\"\t\n",
      "\"1932\"\t\n",
      "\"1933\"\t\n",
      "\"1934\"\t\n",
      "\"1935\"\t\n",
      "\"1936\"\t\n",
      "\"1937\"\t\n",
      "\"1938\"\t\n",
      "\"1939\"\t\n",
      "\"1940\"\t\n",
      "\"1941\"\t*\n",
      "\"1942\"\t*\n",
      "\"1943\"\t*\n",
      "\"1944\"\t***\n",
      "\"1945\"\t**\n",
      "\"1946\"\t****\n",
      "\"1947\"\t****\n",
      "\"1948\"\t********\n",
      "\"1949\"\t*******\n",
      "\"1950\"\t********\n",
      "\"1951\"\t***********\n",
      "\"1952\"\t***********\n",
      "\"1953\"\t*****************\n",
      "\"1954\"\t*******************\n",
      "\"1955\"\t*******************\n",
      "\"1956\"\t***********************\n",
      "\"1957\"\t**********************\n",
      "\"1958\"\t*****************************\n",
      "\"1959\"\t****************************\n",
      "\"1960\"\t**********************************\n",
      "\"1961\"\t***************************\n",
      "\"1962\"\t************************************\n",
      "\"1963\"\t******************************************\n",
      "\"1964\"\t******************************************\n",
      "\"1965\"\t************************************\n",
      "\"1966\"\t****************************************\n",
      "\"1967\"\t**********************************************\n",
      "\"1968\"\t********************************************\n",
      "\"1969\"\t******************************************************\n",
      "\"1970\"\t*********************************************************\n",
      "\"1971\"\t*************************************************\n",
      "\"1972\"\t**************************************************\n",
      "\"1973\"\t*************************************************\n",
      "\"1974\"\t**********************************************************\n",
      "\"1975\"\t************************************************\n",
      "\"1976\"\t*******************************************************\n",
      "\"1977\"\t***********************************************************\n",
      "\"1978\"\t********************************************************************\n",
      "\"1979\"\t*****************************************************************************\n",
      "\"1980\"\t****************************************************************************\n",
      "\"1981\"\t**********************************************************************************\n",
      "\"1982\"\t*******************************************************************************\n",
      "\"1983\"\t***************************************************************************************\n",
      "\"1984\"\t*******************************************************************************************\n",
      "\"1985\"\t*********************************************************************************************\n",
      "\"1986\"\t*********************************************************************************\n",
      "\"1987\"\t**************************************************************************\n",
      "\"1988\"\t********************************************************************************\n",
      "\"1989\"\t********************************************************************\n",
      "\"1990\"\t********************************************************\n",
      "\"1991\"\t******************************\n",
      "\"1992\"\t*********************\n",
      "\"1993\"\t****************\n",
      "\"1994\"\t************\n",
      "\"1995\"\t********\n",
      "\"1996\"\t***\n",
      "\"1997\"\t**\n",
      "\"birth\t\n",
      "\\N\t*******************************************************************\n"
     ]
    }
   ],
   "source": [
    "# by request: display a histogram of birth years, which each * counts 100 people\n",
    "cut -d, -f14 201402-citibike-tripdata.csv | sort | uniq -c | awk '{printf $2\"\\t\"; for (i=1; i<=$1/100; i++) printf \"*\"; printf \"\\n\"}'"
   ]
  }
 ],
 "metadata": {
  "kernelspec": {
   "display_name": "Bash",
   "language": "bash",
   "name": "bash"
  },
  "language_info": {
   "codemirror_mode": "shell",
   "file_extension": ".sh",
   "mimetype": "text/x-sh",
   "name": "bash"
  },
  "toc": {
   "colors": {
    "hover_highlight": "#DAA520",
    "running_highlight": "#FF0000",
    "selected_highlight": "#FFD700"
   },
   "moveMenuLeft": true,
   "nav_menu": {
    "height": "138px",
    "width": "252px"
   },
   "navigate_menu": true,
   "number_sections": true,
   "sideBar": true,
   "threshold": 4,
   "toc_cell": true,
   "toc_section_display": "block",
   "toc_window_display": false
  }
 },
 "nbformat": 4,
 "nbformat_minor": 2
}
